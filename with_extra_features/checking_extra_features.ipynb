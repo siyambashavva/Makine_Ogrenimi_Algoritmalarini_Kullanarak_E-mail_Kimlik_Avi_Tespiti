{
 "cells": [
  {
   "cell_type": "code",
   "execution_count": 2,
   "metadata": {},
   "outputs": [
    {
     "name": "stderr",
     "output_type": "stream",
     "text": [
      "C:\\Users\\orange\\AppData\\Roaming\\Python\\Python310\\site-packages\\bs4\\__init__.py:435: MarkupResemblesLocatorWarning: The input looks more like a filename than markup. You may want to open this file and pass the filehandle into Beautiful Soup.\n",
      "  warnings.warn(\n"
     ]
    }
   ],
   "source": [
    "import pandas as pd\n",
    "import re\n",
    "from bs4 import BeautifulSoup\n",
    "\n",
    "# Belirli bir metindeki HTML etiketlerini sayan bir fonksiyonu tanımla\n",
    "def count_html_tags(text):\n",
    "    text = str(text)\n",
    "    # HTML içeriğini Beautiful Soup ile parse et\n",
    "    soup = BeautifulSoup(text, 'html.parser')\n",
    "    # Tüm HTML etiketlerini bul\n",
    "    html_tags = soup.find_all()\n",
    "    # Bulunan HTML etiketlerinin sayısını döndür\n",
    "    return len(html_tags)\n",
    "\n",
    "# CSV dosyasını bir DataFrame'e oku\n",
    "df = pd.read_csv('./data_with_extra_features/SEFACED_12000.csv', encoding='utf-8')\n",
    "\n",
    "# Her e-posta için HTML etiketlerinin sayısını hesapla\n",
    "html_tag_counts = df['Text'].apply(count_html_tags)\n",
    "\n",
    "# HTML etiketlerinin sayısını DataFrame'e yeni bir sütun olarak ekle\n",
    "df['html_tag_count'] = html_tag_counts\n",
    "\n",
    "# DataFrame'i yeni sütunu eklenmiş CSV dosyasına yaz\n",
    "df.to_csv('./data_with_extra_features/SEFACED_html_count.csv', index=False)\n",
    "\n"
   ]
  },
  {
   "cell_type": "code",
   "execution_count": 4,
   "metadata": {},
   "outputs": [
    {
     "name": "stderr",
     "output_type": "stream",
     "text": [
      "C:\\Users\\orange\\AppData\\Roaming\\Python\\Python310\\site-packages\\bs4\\__init__.py:435: MarkupResemblesLocatorWarning: The input looks more like a filename than markup. You may want to open this file and pass the filehandle into Beautiful Soup.\n",
      "  warnings.warn(\n"
     ]
    }
   ],
   "source": [
    "def count_style_tags(text):\n",
    "    text = str(text)\n",
    "    # HTML içeriğini Beautiful Soup ile parse et\n",
    "    soup = BeautifulSoup(text, 'html.parser')\n",
    "    # Tüm <style> etiketlerini bul\n",
    "    style_tags = soup.find_all('style')\n",
    "    # <style> etiketlerinin sayısını döndür\n",
    "    return len(style_tags)\n",
    "\n",
    "# CSV dosyasını bir DataFrame'e oku\n",
    "df = pd.read_csv('./data_with_extra_features/SEFACED_html_count.csv', encoding='utf-8')\n",
    "\n",
    "# Her e-posta için HTML etiketlerinin sayısını hesapla\n",
    "css_tag_counts = df['Text'].apply(count_style_tags)\n",
    "\n",
    "# HTML etiketlerinin sayısını DataFrame'e yeni bir sütun olarak ekle\n",
    "df['css_tag_count'] = css_tag_counts\n",
    "\n",
    "# DataFrame'i yeni sütunu eklenmiş CSV dosyasına yaz\n",
    "df.to_csv('./data_with_extra_features/SEFACED_html_css_count.csv', index=False)"
   ]
  },
  {
   "cell_type": "code",
   "execution_count": 5,
   "metadata": {},
   "outputs": [],
   "source": [
    "# DataFrame'i bir CSV dosyasına kodlamayla birlikte oku\n",
    "df = pd.read_csv('./data_with_extra_features/SEFACED_html_css_count.csv', encoding='utf-8')\n",
    "\n",
    "# Spam ifadelerinin bulunduğu metin dosyasını bir liste olarak oku\n",
    "with open('./data_with_extra_features/spam-words-EN.txt', 'r', encoding='utf-8') as file:\n",
    "    spam_phrases = [line.strip() for line in file]\n",
    "\n",
    "# Belirli bir metindeki spam ifadelerinin sayısını hesaplayan bir fonksiyon\n",
    "def count_spam_phrases(text):\n",
    "    text = str(text)   \n",
    "    count = 0\n",
    "    for phrase in spam_phrases:\n",
    "        if phrase.lower() in text.lower():\n",
    "            count += 1\n",
    "    return count\n",
    "\n",
    "# Her e-posta için spam ifadelerinin sayısını hesapla\n",
    "spam_phrase_counts = df['Text'].apply(count_spam_phrases)\n",
    "\n",
    "# Spam ifadelerinin sayısını DataFrame'e yeni bir sütun olarak ekle\n",
    "df['spam_phrase_count'] = spam_phrase_counts\n",
    "\n",
    "# DataFrame'i yeni sütunu eklenmiş bir CSV dosyasına yaz\n",
    "df.to_csv('./data_with_extra_features/SEFACED_html_spam_phrase_counts.csv', index=False)\n"
   ]
  },
  {
   "cell_type": "code",
   "execution_count": 6,
   "metadata": {},
   "outputs": [],
   "source": [
    "# DataFrame'i bir CSV dosyasına kodlamayla birlikte oku\n",
    "df = pd.read_csv('./data_with_extra_features/SEFACED_html_spam_phrase_counts.csv', encoding='utf-8')\n",
    "\n",
    "# Belirli bir metindeki bağlantıların sayısını hesaplayan bir fonksiyon\n",
    "def count_links(text):\n",
    "    text = str(text)  \n",
    "    # URL'leri eşleştirmek için bir düzenli ifade deseni tanımla\n",
    "    url_pattern = r'https?://\\S+|www\\.\\S+'\n",
    "    # findall fonksiyonunu kullanarak metinde desene uyan tüm eşleşmeleri bul\n",
    "    links = re.findall(url_pattern, text)\n",
    "    # Bulunan bağlantıların sayısını döndür\n",
    "    return len(links)\n",
    "\n",
    "# Her e-posta için bağlantı sayısını hesapla\n",
    "link_counts = df['Text'].apply(count_links)\n",
    "\n",
    "# Bağlantı sayısını DataFrame'e yeni bir sütun olarak ekle\n",
    "df['link_count'] = link_counts\n",
    "\n",
    "# DataFrame'i yeni sütunu eklenmiş bir CSV dosyasına yaz\n",
    "df.to_csv('./data_with_extra_features/SEFACED_html_spam_phrase_link_counts.csv', index=False)\n"
   ]
  },
  {
   "cell_type": "code",
   "execution_count": 7,
   "metadata": {},
   "outputs": [],
   "source": [
    "import language_tool_python\n",
    "import enchant\n",
    "import pandas as pd\n",
    "\n",
    "\n",
    "# Dil denetimi için dil aracını başlat\n",
    "tool = language_tool_python.LanguageTool('en-US')\n",
    "\n",
    "# Yazım denetimi için sözlük başlat\n",
    "dictionary = enchant.Dict('en_US')\n",
    "\n",
    "# DataFrame'i bir CSV dosyasına kodlamayla birlikte oku\n",
    "df = pd.read_csv('./data_with_extra_features/SEFACED_html_spam_phrase_link_counts.csv', encoding='utf-8')\n",
    "\n",
    "# Belirli bir metindeki dilbilgisi hatalarının sayısını hesaplayan bir fonksiyon\n",
    "def count_grammar_errors(text):\n",
    "    text = str(text) \n",
    "    matches = tool.check(text)\n",
    "    return len(matches)\n",
    "\n",
    "def count_misspelled_words(text):\n",
    "    text = str(text) \n",
    "    words = text.split()\n",
    "    misspelled_count = 0\n",
    "    for word in words:\n",
    "        if not dictionary.check(word):\n",
    "            misspelled_count += 1\n",
    "    return misspelled_count\n",
    "\n",
    "# Her e-posta için dilbilgisi hatalarının sayısını hesapla\n",
    "grammar_error_counts = df['Text'].apply(count_grammar_errors)\n",
    "\n",
    "# Her e-posta için yanlış yazılmış kelimelerin sayısını hesapla\n",
    "misspelled_word_counts = df['Text'].apply(count_misspelled_words)\n",
    "\n",
    "# Yeni sütunlar olarak sayıları DataFrame'e ekle\n",
    "df['grammar_error_count'] = grammar_error_counts\n",
    "df['misspelled_word_count'] = misspelled_word_counts\n",
    "\n",
    "# DataFrame'i yeni sütunları eklenmiş bir CSV dosyasına yaz\n",
    "df.to_csv('./data_with_extra_features/SEFACED_all_f eatures.csv', index=False)\n"
   ]
  }
 ],
 "metadata": {
  "interpreter": {
   "hash": "a06e30aee820ff8fe24fb428cece021c5cdfc4bd84062afc0eba853e87fef366"
  },
  "kernelspec": {
   "display_name": "Python 3.11.4 64-bit",
   "language": "python",
   "name": "python3"
  },
  "language_info": {
   "codemirror_mode": {
    "name": "ipython",
    "version": 3
   },
   "file_extension": ".py",
   "mimetype": "text/x-python",
   "name": "python",
   "nbconvert_exporter": "python",
   "pygments_lexer": "ipython3",
   "version": "3.10.4"
  },
  "orig_nbformat": 4
 },
 "nbformat": 4,
 "nbformat_minor": 2
}
